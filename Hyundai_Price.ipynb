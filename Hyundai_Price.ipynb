{
 "cells": [
  {
   "cell_type": "code",
   "execution_count": null,
   "metadata": {
    "id": "oEYjW3Q2f07b"
   },
   "outputs": [],
   "source": [
    "# !pip install category_encoders==2.*\n",
    "# !pip install pdpbox\n",
    "import os\n",
    "os.getcwd()"
   ]
  },
  {
   "cell_type": "code",
   "execution_count": 1,
   "metadata": {
    "id": "AnGNsK-KOO0P"
   },
   "outputs": [],
   "source": [
    "# imports\n",
    "import pandas as pd\n",
    "import matplotlib.pyplot as plt\n",
    "from sklearn.linear_model import LinearRegression\n",
    "from category_encoders import OneHotEncoder\n",
    "from sklearn.ensemble import RandomForestRegressor\n",
    "from sklearn.pipeline import make_pipeline\n",
    "from sklearn.metrics import mean_absolute_error, r2_score\n",
    "from sklearn.model_selection import train_test_split\n",
    "from sklearn.preprocessing import StandardScaler\n",
    "# from sklearn.impute import SimpleImputer"
   ]
  },
  {
   "cell_type": "code",
   "execution_count": 2,
   "metadata": {
    "colab": {
     "base_uri": "https://localhost:8080/",
     "height": 142
    },
    "id": "1c4lzbTePbnN",
    "outputId": "2539e7fa-70e5-4b9e-c53f-046e43fd54e4"
   },
   "outputs": [
    {
     "data": {
      "text/html": [
       "<div>\n",
       "<style scoped>\n",
       "    .dataframe tbody tr th:only-of-type {\n",
       "        vertical-align: middle;\n",
       "    }\n",
       "\n",
       "    .dataframe tbody tr th {\n",
       "        vertical-align: top;\n",
       "    }\n",
       "\n",
       "    .dataframe thead th {\n",
       "        text-align: right;\n",
       "    }\n",
       "</style>\n",
       "<table border=\"1\" class=\"dataframe\">\n",
       "  <thead>\n",
       "    <tr style=\"text-align: right;\">\n",
       "      <th></th>\n",
       "      <th>model</th>\n",
       "      <th>year</th>\n",
       "      <th>price</th>\n",
       "      <th>transmission</th>\n",
       "      <th>mileage</th>\n",
       "      <th>fuelType</th>\n",
       "      <th>tax</th>\n",
       "      <th>mpg</th>\n",
       "      <th>engineSize</th>\n",
       "    </tr>\n",
       "  </thead>\n",
       "  <tbody>\n",
       "    <tr>\n",
       "      <th>0</th>\n",
       "      <td>I20</td>\n",
       "      <td>2017</td>\n",
       "      <td>7999</td>\n",
       "      <td>Manual</td>\n",
       "      <td>17307</td>\n",
       "      <td>Petrol</td>\n",
       "      <td>145</td>\n",
       "      <td>58.9</td>\n",
       "      <td>1.2</td>\n",
       "    </tr>\n",
       "    <tr>\n",
       "      <th>1</th>\n",
       "      <td>Tucson</td>\n",
       "      <td>2016</td>\n",
       "      <td>14499</td>\n",
       "      <td>Automatic</td>\n",
       "      <td>25233</td>\n",
       "      <td>Diesel</td>\n",
       "      <td>235</td>\n",
       "      <td>43.5</td>\n",
       "      <td>2.0</td>\n",
       "    </tr>\n",
       "    <tr>\n",
       "      <th>2</th>\n",
       "      <td>Tucson</td>\n",
       "      <td>2016</td>\n",
       "      <td>11399</td>\n",
       "      <td>Manual</td>\n",
       "      <td>37877</td>\n",
       "      <td>Diesel</td>\n",
       "      <td>30</td>\n",
       "      <td>61.7</td>\n",
       "      <td>1.7</td>\n",
       "    </tr>\n",
       "  </tbody>\n",
       "</table>\n",
       "</div>"
      ],
      "text/plain": [
       "    model  year  price transmission  mileage fuelType  tax   mpg  engineSize\n",
       "0     I20  2017   7999       Manual    17307   Petrol  145  58.9         1.2\n",
       "1  Tucson  2016  14499    Automatic    25233   Diesel  235  43.5         2.0\n",
       "2  Tucson  2016  11399       Manual    37877   Diesel   30  61.7         1.7"
      ]
     },
     "execution_count": 2,
     "metadata": {},
     "output_type": "execute_result"
    }
   ],
   "source": [
    "filepath = 'hyundi.csv'\n",
    "\n",
    "def wrangle(filepath):\n",
    "  df = pd.read_csv(filepath, skipinitialspace=True)\n",
    "  df.columns = ['model','year','price','transmission','mileage','fuelType','tax','mpg','engineSize']\n",
    "\n",
    "  # leakagehttp://localhost:8888/notebooks/Data/Hyundai_Price.ipynb#\n",
    "  # df.drop(columns='tax',inplace=True)\n",
    "\n",
    "  return df\n",
    "\n",
    "df = wrangle(filepath)\n",
    "df.head(3)"
   ]
  },
  {
   "cell_type": "code",
   "execution_count": null,
   "metadata": {},
   "outputs": [],
   "source": [
    "# # demystifying the MPG column\n",
    "# df.mpg.describe()\n",
    "\n",
    "# df[df.mpg == 1.1]"
   ]
  },
  {
   "cell_type": "code",
   "execution_count": 3,
   "metadata": {
    "id": "YWZFfkd_dUB2"
   },
   "outputs": [],
   "source": [
    "target='price'\n",
    "X = df.drop(columns=target)\n",
    "y = df[target]\n",
    "# X = pd.get_dummies(X)\n",
    "X_train, X_test, y_train, y_test = train_test_split(X,y, test_size=.1, random_state=7)"
   ]
  },
  {
   "cell_type": "markdown",
   "metadata": {
    "id": "Vis6smcqcS02"
   },
   "source": [
    "## Linear Regression"
   ]
  },
  {
   "cell_type": "code",
   "execution_count": 5,
   "metadata": {
    "colab": {
     "base_uri": "https://localhost:8080/"
    },
    "id": "G4248BcOYVip",
    "outputId": "fb3c11f7-6899-4ee3-f635-47431e00574b"
   },
   "outputs": [
    {
     "name": "stdout",
     "output_type": "stream",
     "text": [
      "Baseline MAE:  4608.204720122586\n",
      "Training MAE:  1467.8361235272237\n",
      "Test MAE:  2203542821655.3564\n",
      "Rsquared Test:"
     ]
    },
    {
     "name": "stderr",
     "output_type": "stream",
     "text": [
      "C:\\Users\\Mayra\\anaconda3\\lib\\site-packages\\category_encoders\\utils.py:21: FutureWarning: is_categorical is deprecated and will be removed in a future version.  Use is_categorical_dtype instead\n",
      "  elif pd.api.types.is_categorical(cols):\n"
     ]
    },
    {
     "name": "stdout",
     "output_type": "stream",
     "text": [
      " -7.270503586034585e+19\n"
     ]
    }
   ],
   "source": [
    "# Baseline Accuracy with Mean Absolute Error\n",
    "y_pred = len(y_train) *[y_train.mean()]\n",
    "baseline_mae = mean_absolute_error(y_train,y_pred)\n",
    "print('Baseline MAE: ', baseline_mae)\n",
    "\n",
    "# fit the model\n",
    "model = make_pipeline(OneHotEncoder(use_cat_names=True),\n",
    "                      StandardScaler(),\n",
    "                      LinearRegression())\n",
    "model.fit(X_train,y_train);\n",
    "\n",
    "# Mean Absolute Error Accuracy Score\n",
    "# Training\n",
    "trai_acc = mean_absolute_error(y_train,model.predict(X_train))\n",
    "print('Training MAE: ', trai_acc)\n",
    "\n",
    "\n",
    "y_pred_val = model.predict(X_test)\n",
    "# Validation\n",
    "test_acc = mean_absolute_error(y_test,y_pred_val)\n",
    "print('Test MAE: ',test_acc)\n",
    "\n",
    "print('Rsquared Test:', r2_score(y_test,model.predict(X_test)))\n"
   ]
  },
  {
   "cell_type": "code",
   "execution_count": 20,
   "metadata": {
    "colab": {
     "base_uri": "https://localhost:8080/"
    },
    "id": "weyvVPLUcc1m",
    "outputId": "41ddc26b-389c-48db-d669-48b08d285eb5"
   },
   "outputs": [
    {
     "data": {
      "image/png": "[encoded data removed]",
      "text/plain": [
       "<Figure size 432x288 with 1 Axes>"
      ]
     },
     "metadata": {
      "needs_background": "light"
     },
     "output_type": "display_data"
    }
   ],
   "source": [
    "model_lr_coef = model.named_steps['linearregression'].coef_\n",
    "model_features = model.named_steps['onehotencoder'].get_feature_names()\n",
    "\n",
    "model_lr_info = pd.DataFrame(data=model_lr_coef,\n",
    "                             index=model_features, \n",
    "                             columns=['Coeff']).sort_values(by='Coeff',\n",
    "                                                            key=abs).head(10)\n",
    "model_lr_info.plot(kind='barh');\n",
    "# plt.sh"
   ]
  },
  {
   "cell_type": "markdown",
   "metadata": {
    "id": "TXTIDvVacPZT"
   },
   "source": [
    "## Random Forest Regression"
   ]
  },
  {
   "cell_type": "code",
   "execution_count": 9,
   "metadata": {
    "id": "cYi_A5SnYYMR"
   },
   "outputs": [
    {
     "name": "stderr",
     "output_type": "stream",
     "text": [
      "C:\\Users\\Mayra\\anaconda3\\lib\\site-packages\\category_encoders\\utils.py:21: FutureWarning: is_categorical is deprecated and will be removed in a future version.  Use is_categorical_dtype instead\n",
      "  elif pd.api.types.is_categorical(cols):\n"
     ]
    }
   ],
   "source": [
    "model_rf = make_pipeline(OneHotEncoder(),\n",
    "                         RandomForestRegressor(random_state=7,\n",
    "                                n_estimators=65,\n",
    "                                max_leaf_nodes=270,\n",
    "                                max_depth=70))\n",
    "model_rf.fit(X_train,y_train);"
   ]
  },
  {
   "cell_type": "code",
   "execution_count": 12,
   "metadata": {
    "colab": {
     "base_uri": "https://localhost:8080/"
    },
    "id": "zTWs2YHpYkQ4",
    "outputId": "7a050384-3d78-48ce-84ee-58857d601429"
   },
   "outputs": [
    {
     "name": "stdout",
     "output_type": "stream",
     "text": [
      "Random Forest Regressor\n",
      "Baseline MAE:  4608.204720122586\n",
      "MAE Train:  622.3238134761249\n",
      "MAE Test:  767.76308141557\n",
      "Rsquared Test: 0.9642028247465217\n"
     ]
    }
   ],
   "source": [
    "# Mean Absolute Error Accuracy Score\n",
    "# Training\n",
    "print('Random Forest Regressor')\n",
    "\n",
    "print('Baseline MAE: ', baseline_mae)\n",
    "\n",
    "training_acc = mean_absolute_error(y_train,model_rf.predict(X_train))\n",
    "print('MAE Train: ', training_acc)\n",
    "\n",
    "# Validation\n",
    "test_acc = mean_absolute_error(y_test,model_rf.predict(X_test))\n",
    "print('MAE Test: ',test_acc)\n",
    "\n",
    "print('Rsquared Test:', r2_score(y_test,model_rf.predict(X_test)))\n"
   ]
  },
  {
   "cell_type": "code",
   "execution_count": 18,
   "metadata": {},
   "outputs": [
    {
     "data": {
      "image/png": "[encoded data removed]",
      "text/plain": [
       "<Figure size 432x288 with 1 Axes>"
      ]
     },
     "metadata": {
      "needs_background": "light"
     },
     "output_type": "display_data"
    }
   ],
   "source": [
    "model_rf_coef = model_rf.named_steps['randomforestregressor'].feature_importances_\n",
    "model_rf_info = pd.DataFrame(data=model_rf_coef, \n",
    "                             index=model_features,\n",
    "                             columns=['Feature']).sort_values(by='Feature',\n",
    "                                                           ascending=False,\n",
    "                                                             key=abs).head(10)\n",
    "model_rf_info.plot(kind='barh');\n",
    "# plt.sh"
   ]
  },
  {
   "cell_type": "markdown",
   "metadata": {},
   "source": [
    "## Tunning the Random Forest Regressor"
   ]
  },
  {
   "cell_type": "code",
   "execution_count": null,
   "metadata": {},
   "outputs": [],
   "source": [
    "from sklearn.model_selection import RandomizedSearchCV\n",
    "\n",
    "param_grid = {'n_estimators': range(50,70,1),       \n",
    "              'max_depth': range(50,75,1),\n",
    "              'max_leaf_nodes': range(260,280,1)}\n",
    "\n",
    "#  'randomforestclassifier__learning_rate': range(225,230,1),\n",
    "#               'randomforestclassifier__max_leaf_nodes': range(610,620,5)\n",
    "\n",
    "model_rscv = RandomizedSearchCV(model_rf,\n",
    "                                param_distributions=param_grid,\n",
    "                                n_iter=10,\n",
    "                                cv=None,\n",
    "                                n_jobs=-1,\n",
    "                                verbose=1)\n",
    "\n",
    "\n",
    "model_rscv.fit(X_train, y_train)\n"
   ]
  },
  {
   "cell_type": "code",
   "execution_count": null,
   "metadata": {},
   "outputs": [],
   "source": [
    "model_rscv.best_params_"
   ]
  },
  {
   "cell_type": "code",
   "execution_count": null,
   "metadata": {},
   "outputs": [],
   "source": [
    "from sklearn.model_selection import GridSearchCV\n",
    "\n",
    "param_grid = {'n_estimators': range(50,70,5),       \n",
    "              'max_depth': range(50,75,5),\n",
    "              'max_leaf_nodes': range(260,280,10)}\n",
    "\n",
    "#  'randomforestclassifier__learning_rate': range(225,230,1),\n",
    "#               'randomforestclassifier__max_leaf_nodes': range(610,620,5)\n",
    "\n",
    "model_gscv = GridSearchCV(model_rf,\n",
    "                                param_grid=param_grid,\n",
    "                                cv=None,\n",
    "                                n_jobs=-1,\n",
    "                                verbose=1)\n",
    "\n",
    "\n",
    "model_gscv.fit(X_train, y_train)\n"
   ]
  },
  {
   "cell_type": "code",
   "execution_count": null,
   "metadata": {},
   "outputs": [],
   "source": [
    "model_gscv.best_params_"
   ]
  },
  {
   "cell_type": "code",
   "execution_count": null,
   "metadata": {
    "colab": {
     "base_uri": "https://localhost:8080/",
     "height": 646
    },
    "id": "5laCKuUVSsQe",
    "outputId": "e1d4bcc7-f5ae-49ad-d099-639296e9ecb1"
   },
   "outputs": [],
   "source": [
    "from pdpbox.pdp import pdp_isolate, pdp_plot, pdp_interact, pdp_interact_plot\n",
    "\n",
    "feature = 'mileage'\n",
    "\n",
    "isolate = pdp_isolate(\n",
    "    model_rf,\n",
    "    dataset = X_test,\n",
    "    model_features = X_test.columns,\n",
    "    feature=feature\n",
    ")\n",
    "\n",
    "pdp_plot(isolate, feature_name=feature);"
   ]
  },
  {
   "cell_type": "code",
   "execution_count": null,
   "metadata": {
    "colab": {
     "base_uri": "https://localhost:8080/",
     "height": 652
    },
    "id": "EKFvnR84aXnO",
    "outputId": "0a6c800b-9886-4d5d-a321-6967b12cd0f6"
   },
   "outputs": [],
   "source": [
    "features = ['mpg', 'year']\n",
    "\n",
    "interact = pdp_interact(\n",
    "    model_rf,\n",
    "    dataset = X_test,\n",
    "    model_features = X_test.columns,\n",
    "    features=features\n",
    ")\n",
    "\n",
    "pdp_interact_plot(interact, plot_type='grid', feature_names=features);"
   ]
  },
  {
   "cell_type": "code",
   "execution_count": null,
   "metadata": {
    "id": "GuBbT22gcjwp"
   },
   "outputs": [],
   "source": []
  }
 ],
 "metadata": {
  "colab": {
   "name": "Hyundai Price",
   "provenance": []
  },
  "kernelspec": {
   "display_name": "Python 3",
   "language": "python",
   "name": "python3"
  },
  "language_info": {
   "codemirror_mode": {
    "name": "ipython",
    "version": 3
   },
   "file_extension": ".py",
   "mimetype": "text/x-python",
   "name": "python",
   "nbconvert_exporter": "python",
   "pygments_lexer": "ipython3",
   "version": "3.8.8"
  }
 },
 "nbformat": 4,
 "nbformat_minor": 1
}
